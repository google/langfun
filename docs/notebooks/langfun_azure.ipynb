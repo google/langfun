{
 "cells": [
  {
   "cell_type": "code",
   "execution_count": 2,
   "metadata": {},
   "outputs": [
    {
     "name": "stderr",
     "output_type": "stream",
     "text": [
      "/Users/aleksandrbobrov/data/rag/langfun/.venv/lib/python3.12/site-packages/tqdm/auto.py:21: TqdmWarning: IProgress not found. Please update jupyter and ipywidgets. See https://ipywidgets.readthedocs.io/en/stable/user_install.html\n",
      "  from .autonotebook import tqdm as notebook_tqdm\n"
     ]
    }
   ],
   "source": [
    "import langfun as lf\n",
    "import os"
   ]
  },
  {
   "cell_type": "code",
   "execution_count": 3,
   "metadata": {},
   "outputs": [
    {
     "name": "stdout",
     "output_type": "stream",
     "text": [
      "\u001b[1m[0] LM INFO\u001b[31m (total 23 tokens)\u001b[0m:\u001b[0m\n",
      "\u001b[35mAzureOpenAI(sampling_options=LMSamplingOptions(temperature=0.0, max_tokens=None, n=1, top_k=40, top_p=None, stop=None, random_seed=None, logprobs=False, top_logprobs=None, max_thinking_tokens=None), cache=None, max_concurrency=None, timeout=120.0, max_attempts=5, retry_interval=(5, 60), exponential_backoff=True, max_retry_interval=300, debug=True, model='gpt-4o', headers=None, api_key='9415645ec0d54bd68f006d4ec29785f7', organization=None, project=None, deployment_name='gpt-4o', api_version='2024-08-01-preview', azure_endpoint='https://ai-alextrack517403188782.openai.azure.com/')\u001b[0m\n",
      "\u001b[1m\n",
      "[0] PROMPT SENT TO LM\u001b[31m (14 tokens)\u001b[0m:\u001b[0m\n",
      "\u001b[32mWhat is the capital of France?\u001b[0m\n",
      "\u001b[1m\n",
      "[0] LM RESPONSE\u001b[31m (9 tokens in 2.06 seconds)\u001b[0m:\u001b[0m\n",
      "\u001b[34mThe capital of France is **Paris**.\n",
      "\u001b[0m\n",
      "The capital of France is **Paris**.\n"
     ]
    }
   ],
   "source": [
    "\n",
    "lf_llm = lf.llms.AzureOpenAI(\n",
    "    model='gpt-4o',\n",
    "    deployment_name='gpt-4o',\n",
    "    api_version=os.getenv('OPENAI_API_VERSION', '2024-08-01-preview'),\n",
    "    azure_endpoint=os.getenv('AZURE_OPENAI_ENDPOINT'),\n",
    "    api_key=os.getenv('AZURE_OPENAI_API_KEY'),\n",
    "    debug=True,\n",
    "    temperature=0.0,\n",
    ")\n",
    "response = lf.query(prompt=\"What is the capital of France?\", lm=lf_llm)\n",
    "print(response)"
   ]
  }
 ],
 "metadata": {
  "kernelspec": {
   "display_name": ".venv",
   "language": "python",
   "name": "python3"
  },
  "language_info": {
   "codemirror_mode": {
    "name": "ipython",
    "version": 3
   },
   "file_extension": ".py",
   "mimetype": "text/x-python",
   "name": "python",
   "nbconvert_exporter": "python",
   "pygments_lexer": "ipython3",
   "version": "3.12.8"
  }
 },
 "nbformat": 4,
 "nbformat_minor": 2
}
